{
 "cells": [
  {
   "cell_type": "markdown",
   "metadata": {},
   "source": [
    "# Exploring the Coronavirus (SARS-COV-2) genome\n",
    "\n",
    "We will whole genome sequence of the original isolate of the SARS-COV-2 virus from [GenBank](https://www.ncbi.nlm.nih.gov/genbank/). While this is a RNA virus, we indicate \"dna\" just for convenience. (This just swaps the RNA character \"U\" for the DNA character \"T\" in the sequence.)\n",
    "\n",
    "The data format downloaded from GenBank includes bothe sequence and genomne \"features\""
   ]
  },
  {
   "cell_type": "code",
   "execution_count": null,
   "metadata": {},
   "outputs": [],
   "source": [
    "import pathlib\n",
    "import cogent3\n",
    "\n",
    "\n",
    "def download_genbank_seq(accession: str, outpath: pathlib.Path):\n",
    "    url = f\"http://eutils.ncbi.nlm.nih.gov/entrez/eutils/efetch.fcgi?db=nuccore&id={accession}&rettype=gb&retmode=text\"\n",
    "    with cogent3.open_(url, mode=\"rb\") as infile:\n",
    "        data = infile.read()\n",
    "\n",
    "    with cogent3.open_(outpath, mode=\"wb\") as outfile:\n",
    "        outfile.write(data)\n",
    "\n",
    "\n",
    "alpha_path = pathlib.Path(\"alpha.gb.gz\")\n",
    "if not alpha_path.exists():\n",
    "    download_genbank_seq(\"NC_045512.2\", alpha_path)\n",
    "\n",
    "alpha = cogent3.load_seq(alpha_path, moltype=\"dna\")"
   ]
  },
  {
   "cell_type": "markdown",
   "metadata": {},
   "source": [
    "We display the genetic organisation of the SARS-COV-2 genome. We use Plotly for the visualisation. If you hover your cursor over an element in the plot, the \"symbol\" is displayed. Note the the \"S\" gene (which encodes the Spike protein) is the second from the left. (The arrows indicate the direction in which the gene is encoded.)"
   ]
  },
  {
   "cell_type": "code",
   "execution_count": null,
   "metadata": {},
   "outputs": [],
   "source": [
    "fig = alpha.get_drawable(\n",
    "    biotype=(\"gene\", \"5'UTR\", \"3'UTR\"),\n",
    ")\n",
    "fig.layout.title = \"SARS-CoV-2 genome\"\n",
    "fig.layout |= dict(width=1000, height=300)\n",
    "fig.write(\"sars_cov2_genome.svg\")\n",
    "fig.write(\"sars_cov2_genome.png\")\n",
    "fig.show()"
   ]
  },
  {
   "cell_type": "markdown",
   "metadata": {},
   "source": [
    "We use the `cogent3` sequence to get the feature for the \"S\" gene."
   ]
  },
  {
   "cell_type": "code",
   "execution_count": null,
   "metadata": {},
   "outputs": [],
   "source": [
    "feature = list(alpha.get_features(name=\"S\", biotype=\"gene\"))[0]\n",
    "feature"
   ]
  },
  {
   "cell_type": "markdown",
   "metadata": {},
   "source": [
    "We can use that feature to get the nucleic acid sequence"
   ]
  },
  {
   "cell_type": "code",
   "execution_count": null,
   "metadata": {},
   "outputs": [],
   "source": [
    "alpha_spike = alpha[feature]\n",
    "alpha_spike"
   ]
  },
  {
   "cell_type": "markdown",
   "metadata": {},
   "source": [
    "which can then be translated it into protein sequence."
   ]
  },
  {
   "cell_type": "code",
   "execution_count": null,
   "metadata": {},
   "outputs": [],
   "source": [
    "alpha_spike.get_translation()"
   ]
  },
  {
   "cell_type": "markdown",
   "metadata": {},
   "source": [
    "Much of genomics relies on looking for evidence of natural selection in genetic variation to tell us where the important information is. At its simplest level, this involves comparing the genomes of two organisms. To illustrate this, I will download the genome for a different SARS-COV-2 strain (Omicron) and extract it's Spike gene. I put the two into a single sequence collection."
   ]
  },
  {
   "cell_type": "code",
   "execution_count": null,
   "metadata": {},
   "outputs": [],
   "source": [
    "omicron_path = pathlib.Path(\"omicron.gb.gz\")\n",
    "if not omicron_path.exists():\n",
    "    download_genbank_seq(\"OR575624.1\", omicron_path)\n",
    "\n",
    "omicron = cogent3.load_seq(omicron_path, moltype=\"dna\")\n",
    "feature = list(omicron.get_features(name=\"S\", biotype=\"gene\"))[0]\n",
    "omicron_spike = omicron[feature]\n",
    "coll = cogent3.make_unaligned_seqs({\"alpha\": alpha, \"omicron\": omicron}, moltype=\"dna\")\n",
    "coll"
   ]
  },
  {
   "cell_type": "markdown",
   "metadata": {},
   "source": [
    "I use a \"Dotplot\" to visualise the relationship between the genomes at the individual character level. If there were no genetic differences, we would expect a single blue line on the diagnoal. Where that line is broken indicates the location of a difference in their genome sequence."
   ]
  },
  {
   "cell_type": "code",
   "execution_count": null,
   "metadata": {},
   "outputs": [],
   "source": [
    "spike_seqs = cogent3.make_unaligned_seqs(\n",
    "    {\"alpha\": alpha_spike, \"omicron\": omicron_spike}, moltype=\"dna\"\n",
    ")\n",
    "\n",
    "dp = spike_seqs.dotplot(window=20, threshold=20, k=10, title=\"Spike gene\")\n",
    "dp.remove_track(left_track=True)\n",
    "dp.show(width=1000, height=1000)\n",
    "dp.write(\"spike_gene_dotplot.svg\")\n",
    "dp.write(\"spike_gene_dotplot.png\")"
   ]
  },
  {
   "cell_type": "markdown",
   "metadata": {},
   "source": [
    "The corresponding plotly figure can of a `cogent3` drawables can be accessed directly via a `.plotly_figure` attribute."
   ]
  },
  {
   "cell_type": "code",
   "execution_count": null,
   "metadata": {},
   "outputs": [],
   "source": [
    "print(type(dp.plotly_figure))\n",
    "dp.plotly_figure"
   ]
  },
  {
   "cell_type": "markdown",
   "metadata": {},
   "source": [
    "To do a more comprehensive analysis of genetic variation requires that we have a larger collection of related sequences. Of particular importance is that these sequences have been subjected to a multiple sequence alignment algorithm. The upshot of this algorithm is we have a matrix of sequences. Rows in this matrix correspond to genomes. The columns correspond to the characters that have decended from the same character in the common ancestor of all the genomes in the collection. We download a publicly available multiple sequence alignment. We want to analyze just the spike gene segment of this alignment. We project the coordinates from one of the genomes annotations present into the alignment coordinate system. We use those coordinates to slice the alignment.\n",
    "\n",
    "We also want to eliminate sequences that have a lot of missing data. `cogent3` represents the sequences as a numpy array, for DNA (and RNA) \"missing\" or incomplete data will have indices > 4. So we exclude genomes whose Spike gene has > 1% missing data."
   ]
  },
  {
   "cell_type": "code",
   "execution_count": null,
   "metadata": {},
   "outputs": [],
   "source": [
    "import pathlib\n",
    "\n",
    "import cogent3\n",
    "\n",
    "\n",
    "def get_sars_alignment(outpath):\n",
    "    if outpath.exists():\n",
    "        return cogent3.load_aligned_seqs(outpath, moltype=\"dna\")\n",
    "\n",
    "    url = \"https://hgdownload.soe.ucsc.edu/goldenPath/wuhCor1/UShER_SARS-CoV-2/public-latest.all.msa.fa.xz\"\n",
    "    aln = cogent3.load_aligned_seqs(\n",
    "        url,\n",
    "        format=\"fasta\",\n",
    "        label_to_name=lambda x: x.split(\"|\")[-2],\n",
    "        moltype=\"dna\",\n",
    "    )\n",
    "    aln.write(outpath, file_format=\"fasta\", block_size=100_000)\n",
    "    return aln\n",
    "\n",
    "\n",
    "def get_spike_coords_from_known(aln):\n",
    "    seqid = \"PP692424.1\"\n",
    "    selected = aln.take_seqs([seqid])\n",
    "    # based on PP692424.1 GenBank record, plus discovering error in annotation\n",
    "    selected.annotation_db.add_feature(\n",
    "        seqid=seqid, biotype=\"gene\", name=\"Spike\", spans=[(21469, 25264)]\n",
    "    )\n",
    "    f = list(selected.get_features(seqid=seqid, name=\"Spike\"))[0]\n",
    "    # these are the start and end of the gene in alignment coordinates\n",
    "    return f.map.start, f.map.end\n",
    "\n",
    "\n",
    "def sars():\n",
    "    import numpy\n",
    "\n",
    "    aln_path = pathlib.Path(\"public-latest.all.msa.fa\")\n",
    "    aln = get_sars_alignment(aln_path)\n",
    "    # s, e = get_spike_coords_from_known(aln)\n",
    "    # hard coding the result of that call below\n",
    "    s, e = 21469, 25264\n",
    "    spike = aln[s:e]\n",
    "    # select sequences that have < 1% missing data in S gene\n",
    "    # for DNA / RNA, \"missing data\" characters have indices > 4\n",
    "    spike = spike.take_seqs_if(\n",
    "        lambda seq: (numpy.array(seq) > 4).sum() / len(spike) < 0.01\n",
    "    )\n",
    "    # removing redundant gaps\n",
    "    spike = spike.omit_gap_pos(allowed_gap_frac=1 / spike.num_seqs)\n",
    "    return spike"
   ]
  },
  {
   "cell_type": "markdown",
   "metadata": {},
   "source": [
    "In the interests of cutting to the chase, we limit the analysis to the following \"slice\" (which is a subset of aligned positions)."
   ]
  },
  {
   "cell_type": "code",
   "execution_count": null,
   "metadata": {},
   "outputs": [],
   "source": [
    "# this step takes a few seconds as it's cleaning up data\n",
    "# reducing the alignment down to a smaller region after discovering this\n",
    "# patch of coevolving sites\n",
    "aln = sars()[1925:2050]"
   ]
  },
  {
   "cell_type": "markdown",
   "metadata": {},
   "source": [
    "We then perform the coevolution analysis. This produces a pairwise matrix, an object which has a `drawable` attribute. In this case, this wraps production of a Plotly heatmap. We use the RMI (resamling Mutual Information statistic, described in [this paper](http://www.ncbi.nlm.nih.gov/pubmed/19055758)) to measure coevolution, the values are between 0 and 1. The higher the value, the more likely the two positions are to be coevolving.\n",
    "\n",
    "Note the two clusters of high coevolution values are also co-evolving with each other."
   ]
  },
  {
   "cell_type": "code",
   "execution_count": null,
   "metadata": {},
   "outputs": [],
   "source": [
    "dmat = aln.coevolution(stat=\"rmi\", drawable=\"heatmap\", show_progress=False)"
   ]
  },
  {
   "cell_type": "code",
   "execution_count": null,
   "metadata": {},
   "outputs": [],
   "source": [
    "fig = dmat.drawable\n",
    "fig.layout.title = \"Clustered coevolving positions within SPIKE\"\n",
    "fig.show()"
   ]
  },
  {
   "cell_type": "markdown",
   "metadata": {},
   "source": [
    "To save these images to a static file, use the `write()` method on the `cogent3` drawable."
   ]
  }
 ],
 "metadata": {
  "kernelspec": {
   "display_name": "c313",
   "language": "python",
   "name": "python3"
  },
  "language_info": {
   "codemirror_mode": {
    "name": "ipython",
    "version": 3
   },
   "file_extension": ".py",
   "mimetype": "text/x-python",
   "name": "python",
   "nbconvert_exporter": "python",
   "pygments_lexer": "ipython3",
   "version": "3.13.5"
  }
 },
 "nbformat": 4,
 "nbformat_minor": 2
}
