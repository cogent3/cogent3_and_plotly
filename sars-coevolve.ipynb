{
 "cells": [
  {
   "cell_type": "markdown",
   "metadata": {},
   "source": [
    "Looking at the sars genome. We will download two files from GenBank."
   ]
  },
  {
   "cell_type": "code",
   "execution_count": null,
   "metadata": {},
   "outputs": [],
   "source": [
    "import pathlib\n",
    "\n",
    "import cogent3\n",
    "\n",
    "\n",
    "def download_genbank_seq(accession: str, outpath: pathlib.Path):\n",
    "    url = f\"http://eutils.ncbi.nlm.nih.gov/entrez/eutils/efetch.fcgi?db=nuccore&id={accession}&rettype=gb&retmode=text\"\n",
    "    with cogent3.open_(url, mode=\"rb\") as infile:\n",
    "        data = infile.read()\n",
    "\n",
    "    with cogent3.open_(outpath, mode=\"wb\") as outfile:\n",
    "        outfile.write(data)\n",
    "\n",
    "\n",
    "alpha_path = pathlib.Path(\"alpha.gb.gz\")\n",
    "if not alpha_path.exists():\n",
    "    download_genbank_seq(\"NC_045512.2\", alpha_path)\n",
    "\n",
    "alpha = cogent3.load_seq(alpha_path, moltype=\"dna\")  # add support for new_type=True"
   ]
  },
  {
   "cell_type": "markdown",
   "metadata": {},
   "source": [
    "show the genetic organisation of the sars genome"
   ]
  },
  {
   "cell_type": "code",
   "execution_count": null,
   "metadata": {},
   "outputs": [],
   "source": [
    "fig = alpha.get_drawable(\n",
    "    biotype=(\"gene\", \"5'UTR\", \"3'UTR\"),\n",
    ")\n",
    "fig.layout.title = \"SARS-CoV-2 genome\"\n",
    "fig.layout |= dict(width=1000, height=300)\n",
    "fig.show()"
   ]
  },
  {
   "cell_type": "markdown",
   "metadata": {},
   "source": [
    "get the feature for the spike gene"
   ]
  },
  {
   "cell_type": "code",
   "execution_count": null,
   "metadata": {},
   "outputs": [],
   "source": [
    "feature = list(alpha.get_features(name=\"S\", biotype=\"gene\"))[0]\n",
    "feature"
   ]
  },
  {
   "cell_type": "markdown",
   "metadata": {},
   "source": [
    "get the sequence corresponding to that"
   ]
  },
  {
   "cell_type": "code",
   "execution_count": null,
   "metadata": {},
   "outputs": [],
   "source": [
    "alpha_spike = alpha[feature]"
   ]
  },
  {
   "cell_type": "markdown",
   "metadata": {},
   "source": [
    "translate it into protein sequence"
   ]
  },
  {
   "cell_type": "code",
   "execution_count": null,
   "metadata": {},
   "outputs": [],
   "source": [
    "alpha_spike.get_translation()"
   ]
  },
  {
   "cell_type": "code",
   "execution_count": null,
   "metadata": {},
   "outputs": [],
   "source": [
    "omicron_path = pathlib.Path(\"omicron.gb.gz\")\n",
    "if not omicron_path.exists():\n",
    "    download_genbank_seq(\"OR575624.1\", omicron_path)\n",
    "\n",
    "omicron = cogent3.load_seq(omicron_path, moltype=\"dna\")\n",
    "feature = list(omicron.get_features(name=\"S\", biotype=\"gene\"))[0]\n",
    "omicron_spike = omicron[feature]\n",
    "coll = cogent3.make_unaligned_seqs({\"alpha\": alpha, \"omicron\": omicron}, moltype=\"dna\")\n",
    "coll"
   ]
  },
  {
   "cell_type": "code",
   "execution_count": null,
   "metadata": {},
   "outputs": [],
   "source": [
    "spike_seqs = cogent3.make_unaligned_seqs(\n",
    "    {\"alpha\": alpha_spike, \"omicron\": omicron_spike}, moltype=\"dna\"\n",
    ")\n",
    "\n",
    "dp = spike_seqs.dotplot(window=20, threshold=20, k=10, title=\"Spike gene\")\n",
    "dp.remove_track(left_track=True)\n",
    "dp.show(width=1000, height=1000)"
   ]
  },
  {
   "cell_type": "markdown",
   "metadata": {},
   "source": [
    "downloading and getting ready to analyse the alignment of the sars genome"
   ]
  },
  {
   "cell_type": "code",
   "execution_count": null,
   "metadata": {},
   "outputs": [],
   "source": [
    "import pathlib\n",
    "\n",
    "import cogent3\n",
    "\n",
    "\n",
    "def get_sars_alignment(outpath):\n",
    "    if outpath.exists():\n",
    "        return cogent3.load_aligned_seqs(outpath, moltype=\"dna\")\n",
    "\n",
    "    url = \"https://hgdownload.soe.ucsc.edu/goldenPath/wuhCor1/UShER_SARS-CoV-2/public-latest.all.msa.fa.xz\"\n",
    "    aln = cogent3.load_aligned_seqs(\n",
    "        url, format=\"fasta\", label_to_name=lambda x: x.split(\"|\")[-2], moltype=\"dna\"\n",
    "    )\n",
    "    aln.write(outpath, format=\"fasta\", block_size=100_000)\n",
    "    return aln\n",
    "\n",
    "\n",
    "def get_spike_coords_from_known(aln):\n",
    "    seqid = \"PP692424.1\"\n",
    "    selected = aln.take_seqs([seqid])\n",
    "    selected = selected.to_type(array_align=False)\n",
    "    # based on PP692424.1 GenBank record, plus discovering error in annotation\n",
    "    selected.annotation_db.add_feature(\n",
    "        seqid=seqid, biotype=\"gene\", name=\"Spike\", spans=[(21469, 25264)]\n",
    "    )\n",
    "    f = list(selected.get_features(seqid=seqid, name=\"Spike\"))[0]\n",
    "    # these are the start and end of the gene in alignment coordinates\n",
    "    return f.map.start, f.map.end\n",
    "\n",
    "\n",
    "def sars():\n",
    "    import numpy\n",
    "\n",
    "    aln_path = pathlib.Path(\"public-latest.all.msa.fa\")\n",
    "    aln = get_sars_alignment(aln_path)\n",
    "    # s, e = get_spike_coords_from_known(aln)\n",
    "    s, e = 21469, 25264\n",
    "    spike = aln[s:e]\n",
    "    names = numpy.array(spike.names)\n",
    "    # select sequences that have < 1% missing data in S gene\n",
    "    fnn = (spike.array_seqs > 4).sum(axis=1) / len(spike)\n",
    "    names = names[fnn < 0.01]\n",
    "    spike = spike.take_seqs(names.tolist())\n",
    "    # removing redundant gaps\n",
    "    spike = spike.omit_gap_pos(allowed_gap_frac=1 / len(names))\n",
    "    return spike"
   ]
  },
  {
   "cell_type": "code",
   "execution_count": null,
   "metadata": {},
   "outputs": [],
   "source": [
    "# this step can take a few minutes on first run as it's cleaning up data\n",
    "# reducing the alignment down to a smaller region after discovering this\n",
    "# patch of coevolving sites\n",
    "aln = sars()[1925:2050]"
   ]
  },
  {
   "cell_type": "code",
   "execution_count": null,
   "metadata": {},
   "outputs": [],
   "source": [
    "dmat = aln.coevolution(stat=\"rmi\", drawable=\"heatmap\", show_progress=True)"
   ]
  },
  {
   "cell_type": "code",
   "execution_count": null,
   "metadata": {},
   "outputs": [],
   "source": [
    "fig = dmat.drawable\n",
    "fig.layout.title = \"Clustered coevolving positions within SPIKE\"\n",
    "fig.show()"
   ]
  }
 ],
 "metadata": {
  "kernelspec": {
   "display_name": "c312",
   "language": "python",
   "name": "python3"
  },
  "language_info": {
   "codemirror_mode": {
    "name": "ipython",
    "version": 3
   },
   "file_extension": ".py",
   "mimetype": "text/x-python",
   "name": "python",
   "nbconvert_exporter": "python",
   "pygments_lexer": "ipython3",
   "version": "3.12.1"
  }
 },
 "nbformat": 4,
 "nbformat_minor": 2
}
